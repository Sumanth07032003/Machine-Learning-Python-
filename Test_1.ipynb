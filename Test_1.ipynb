{
  "nbformat": 4,
  "nbformat_minor": 0,
  "metadata": {
    "colab": {
      "provenance": [],
      "authorship_tag": "ABX9TyM/dII1+sOSGuCUm/hbQTei",
      "include_colab_link": true
    },
    "kernelspec": {
      "name": "python3",
      "display_name": "Python 3"
    },
    "language_info": {
      "name": "python"
    }
  },
  "cells": [
    {
      "cell_type": "markdown",
      "metadata": {
        "id": "view-in-github",
        "colab_type": "text"
      },
      "source": [
        "<a href=\"https://colab.research.google.com/github/Sumanth07032003/Machine-Learning-Python-/blob/main/Test_1.ipynb\" target=\"_parent\"><img src=\"https://colab.research.google.com/assets/colab-badge.svg\" alt=\"Open In Colab\"/></a>"
      ]
    },
    {
      "cell_type": "markdown",
      "source": [
        "**Prime or not**"
      ],
      "metadata": {
        "id": "WL4LnVlpnrrz"
      }
    },
    {
      "cell_type": "code",
      "execution_count": null,
      "metadata": {
        "colab": {
          "base_uri": "https://localhost:8080/"
        },
        "id": "Kk8aqRNAkHbR",
        "outputId": "e009725c-1987-423d-ad28-3ff136fbebeb"
      },
      "outputs": [
        {
          "output_type": "stream",
          "name": "stdout",
          "text": [
            "enter number5\n",
            "prime number\n"
          ]
        }
      ],
      "source": [
        "a=int(input(\"enter number\"))\n",
        "count=0\n",
        "for i in range(2,a+1):\n",
        "  if a%i==0:\n",
        "    count+=1\n",
        "\n",
        "if count==1:\n",
        "  print(\"prime number\")\n",
        "else:\n",
        "  if a%3==0:\n",
        "    print(\"divisible by 3\")\n",
        "  elif a%7==0:\n",
        "    print(\"divisible by 7\")\n",
        "  elif a%9==0:\n",
        "    print(\"divisible by 9\")\n",
        "  elif a%11==0:\n",
        "    print(\"divisible by 11\")\n",
        "\n",
        "\n",
        "\n"
      ]
    },
    {
      "cell_type": "markdown",
      "source": [
        "**Palindrome**"
      ],
      "metadata": {
        "id": "jznCKKhqnvlo"
      }
    },
    {
      "cell_type": "code",
      "source": [
        "x=input(\"Enter a string\")\n",
        "a=0\n",
        "b=-1\n",
        "flag=1\n",
        "for i in range(0,len(x)):\n",
        "  if x[a]!=x[b]:\n",
        "    print(\"Not a palindrome\")\n",
        "    flag=0\n",
        "    break\n",
        "  a+=1\n",
        "  b-=1\n",
        "if flag==1:\n",
        "  print(\"Palindrome\")"
      ],
      "metadata": {
        "colab": {
          "base_uri": "https://localhost:8080/"
        },
        "id": "y5oXOJ7Ol-r7",
        "outputId": "9b15fb0a-4d4a-43a0-b953-5937132be0c8"
      },
      "execution_count": null,
      "outputs": [
        {
          "output_type": "stream",
          "name": "stdout",
          "text": [
            "Enter a stringabc\n",
            "Not a palindrome\n"
          ]
        }
      ]
    },
    {
      "cell_type": "markdown",
      "source": [
        "**Pattern**"
      ],
      "metadata": {
        "id": "Z1wMdCsCortV"
      }
    },
    {
      "cell_type": "code",
      "source": [
        "n=int(input(\"Enter the numbe rof rows\"))\n",
        "for i in range(n):\n",
        "  for j in range(n):\n",
        "    if i>=j:\n",
        "      print(\"*\",end=\" \")\n",
        "  print(\"\\n\")"
      ],
      "metadata": {
        "colab": {
          "base_uri": "https://localhost:8080/"
        },
        "id": "Jvjq7k4vnHLY",
        "outputId": "bd05bb7b-a1ca-48d3-b649-40cbd9b80f93"
      },
      "execution_count": null,
      "outputs": [
        {
          "output_type": "stream",
          "name": "stdout",
          "text": [
            "Enter the numbe rof rows4\n",
            "* \n",
            "\n",
            "* * \n",
            "\n",
            "* * * \n",
            "\n",
            "* * * * \n",
            "\n"
          ]
        }
      ]
    },
    {
      "cell_type": "markdown",
      "source": [
        "**Odd or even list**"
      ],
      "metadata": {
        "id": "ZXWx-tpOqmNs"
      }
    },
    {
      "cell_type": "code",
      "source": [
        "a=[]\n",
        "for i in range(5):\n",
        "  b=int(input(\"enter no\"))\n",
        "  a.append(b)\n",
        "for i in range(5):\n",
        "  if a[i]%2==0:\n",
        "    print(a[i])\n",
        "    print(\"even\")\n",
        "for i in range(5):\n",
        "  if a[i]%2 !=0:\n",
        "    print(a[i])\n",
        "    print(\"odd\")"
      ],
      "metadata": {
        "colab": {
          "base_uri": "https://localhost:8080/"
        },
        "id": "2ZPircumoLJc",
        "outputId": "3de68d64-1176-4df0-a8e9-260642e47a3c"
      },
      "execution_count": null,
      "outputs": [
        {
          "output_type": "stream",
          "name": "stdout",
          "text": [
            "enter no4\n",
            "enter no5\n",
            "enter no6\n",
            "enter no7\n",
            "enter no10\n",
            "4\n",
            "even\n",
            "6\n",
            "even\n",
            "10\n",
            "even\n",
            "5\n",
            "odd\n",
            "7\n",
            "odd\n"
          ]
        }
      ]
    },
    {
      "cell_type": "code",
      "source": [],
      "metadata": {
        "id": "gjLYtomxqPHM"
      },
      "execution_count": null,
      "outputs": []
    }
  ]
}