{
  "nbformat": 4,
  "nbformat_minor": 0,
  "metadata": {
    "colab": {
      "provenance": [],
      "mount_file_id": "15HhXL5cBBv1MvXIGCszbCWWN6E7F0isk",
      "authorship_tag": "ABX9TyOBfcfdoEp9EWKh2wM0Rsk5",
      "include_colab_link": true
    },
    "kernelspec": {
      "name": "python3",
      "display_name": "Python 3"
    },
    "language_info": {
      "name": "python"
    }
  },
  "cells": [
    {
      "cell_type": "markdown",
      "metadata": {
        "id": "view-in-github",
        "colab_type": "text"
      },
      "source": [
        "<a href=\"https://colab.research.google.com/github/Sumanth07032003/Machine-Learning-Python-/blob/main/Test_2.ipynb\" target=\"_parent\"><img src=\"https://colab.research.google.com/assets/colab-badge.svg\" alt=\"Open In Colab\"/></a>"
      ]
    },
    {
      "cell_type": "markdown",
      "source": [
        "**Q5**"
      ],
      "metadata": {
        "id": "xtPTZYvTiPJ3"
      }
    },
    {
      "cell_type": "code",
      "execution_count": null,
      "metadata": {
        "colab": {
          "base_uri": "https://localhost:8080/"
        },
        "id": "XIoAT6SYiMKj",
        "outputId": "f18b9eda-6b0e-4dcb-b960-76204251ef9b"
      },
      "outputs": [
        {
          "output_type": "stream",
          "name": "stdout",
          "text": [
            "Enter a number5\n",
            "Dumpty\n"
          ]
        }
      ],
      "source": [
        "def Humpty_Dumpty(n):\n",
        "  if n%3==0 and n%5==0 :\n",
        "    return('Humpty_Dumpty')\n",
        "  elif n % 3==0 :\n",
        "    return('Humpty')\n",
        "  elif n % 5==0 :\n",
        "    return('Dumpty')\n",
        "  elif n%3==0 and n%5==0 :\n",
        "    return('Humpty_Dumpty')\n",
        "  else:\n",
        "    return(n)\n",
        "\n",
        "n=int(input(\"Enter a number\"))\n",
        "s=Humpty_Dumpty(n)\n",
        "print(s)\n"
      ]
    },
    {
      "cell_type": "markdown",
      "source": [
        "**Q7**"
      ],
      "metadata": {
        "id": "kC-ZVwcjkpRR"
      }
    },
    {
      "cell_type": "code",
      "source": [
        "def sum(n):\n",
        "  sum=0\n",
        "  for i in range(n+1):\n",
        "    if(i%3==0 or i%5==0):\n",
        "      sum=sum+i\n",
        "  return sum\n",
        "\n",
        "n=int(input(\"Enter the limit parameter\"))\n",
        "s=sum(n)\n",
        "print(\"Sum:\",s)\n"
      ],
      "metadata": {
        "colab": {
          "base_uri": "https://localhost:8080/"
        },
        "id": "5FV2WusbjL3c",
        "outputId": "edadc510-ba2d-4921-c6d2-1629796bbf30"
      },
      "execution_count": null,
      "outputs": [
        {
          "output_type": "stream",
          "name": "stdout",
          "text": [
            "Enter the limit parameter20\n",
            "Sum: 98\n"
          ]
        }
      ]
    },
    {
      "cell_type": "markdown",
      "source": [
        "Q6-Matrix multiplication of 3*2 and 2*3"
      ],
      "metadata": {
        "id": "GzD0LC0UmC0F"
      }
    },
    {
      "cell_type": "code",
      "source": [
        "a=[[0,0],[0,0],[0,0]]\n",
        "b=[[0,0,0],[0,0,0]]\n",
        "m=[[0,0,0],[0,0,0],[0,0,0]]\n",
        "for i in range(0,3):\n",
        "  for j in range(0,2):\n",
        "    a[i][j]=int(input(\"Enter the elements of a: \"))\n",
        "for i in range(0,2):\n",
        "  for j in range(0,3):\n",
        "    b[i][j]=int(input(\"Enter the elements of b: \"))\n",
        "for i in range(0,3):\n",
        "  for j in range(0,3):\n",
        "    for k in range(0,2):\n",
        "      m[i][j] = m[i][j] + a[i][k]*b[k][j]\n",
        "print(m)\n"
      ],
      "metadata": {
        "colab": {
          "base_uri": "https://localhost:8080/"
        },
        "id": "C2QgGYM5lhAm",
        "outputId": "fa00d097-9e33-42b5-9fb0-1620a0c23411"
      },
      "execution_count": null,
      "outputs": [
        {
          "output_type": "stream",
          "name": "stdout",
          "text": [
            "Enter the elements of a: 1\n",
            "Enter the elements of a: 2\n",
            "Enter the elements of a: 0\n",
            "Enter the elements of a: 1\n",
            "Enter the elements of a: 0\n",
            "Enter the elements of a: 1\n",
            "Enter the elements of b: 1\n",
            "Enter the elements of b: 0\n",
            "Enter the elements of b: 2\n",
            "Enter the elements of b: 1\n",
            "Enter the elements of b: 1\n",
            "Enter the elements of b: 1\n",
            "[[3, 2, 4], [1, 1, 1], [1, 1, 1]]\n"
          ]
        }
      ]
    },
    {
      "cell_type": "markdown",
      "source": [
        "**Q8**"
      ],
      "metadata": {
        "id": "qlb2F7-VoxPf"
      }
    },
    {
      "cell_type": "code",
      "source": [
        "import pandas as pd\n",
        "import numpy as np\n",
        "import matplotlib.pyplot as plt\n",
        "\n",
        "data = pd.read_fwf('/content/Document.txt')\n",
        "\n",
        "# Extract the 'USN' and 'Marks' columns as numpy arrays\n",
        "x = data['USN'].values.reshape((-1, 1))\n",
        "y = data['Marks'].values.reshape((-1,1))\n",
        "\n",
        "# Calculate the means\n",
        "x_mean = np.mean(x)\n",
        "y_mean = np.mean(y)\n",
        "\n",
        "# Calculate the coefficients W1 and W0\n",
        "m = len(x)\n",
        "num = 0\n",
        "den = 0\n",
        "\n",
        "for i in range(m):\n",
        "    num += (x[i] - x_mean) * (y[i] - y_mean)\n",
        "    den += (x[i] - x_mean) ** 2\n",
        "\n",
        "W1 = num / den\n",
        "W0 = y_mean - (W1 * x_mean)\n",
        "\n",
        "# Make predictions using manual calculation\n",
        "pred1 = W0 + W1 * x\n",
        "\n",
        "# Use scikit-learn's LinearRegression\n",
        "from sklearn.linear_model import LinearRegression\n",
        "\n",
        "LR = LinearRegression()\n",
        "LR.fit(x, y)\n",
        "pred2 = LR.predict(x)\n",
        "\n",
        "# Print the predictions\n",
        "print(\"Manual Calculation:\")\n",
        "print(pred1)\n",
        "print(\"\\nScikit-Learn LinearRegression:\")\n",
        "print(pred2)\n",
        "\n",
        "# Plotting\n",
        "plt.scatter(x, y, color='red', marker='o', label=\"Datapoints\")\n",
        "plt.plot(x, pred1, color='yellow', marker='*', label=\"Manual Linear Regression\")\n",
        "plt.plot(x, pred2, color='blue', marker='x', label=\"Scikit-Learn Linear Regression\")\n",
        "plt.xlabel(\"USN\")\n",
        "plt.ylabel(\"Marks\")\n",
        "plt.title(\"Students Marks\")\n",
        "plt.legend()\n",
        "plt.show()"
      ],
      "metadata": {
        "colab": {
          "base_uri": "https://localhost:8080/",
          "height": 906
        },
        "id": "CkWk11kxnrOy",
        "outputId": "5e166d0b-9075-4b43-e270-25528878bf02"
      },
      "execution_count": null,
      "outputs": [
        {
          "output_type": "stream",
          "name": "stdout",
          "text": [
            "Manual Calculation:\n",
            "[[79.68181818]\n",
            " [81.52727273]\n",
            " [83.37272727]\n",
            " [85.21818182]\n",
            " [87.06363636]\n",
            " [88.90909091]\n",
            " [90.75454545]\n",
            " [92.6       ]\n",
            " [94.44545455]\n",
            " [96.29090909]\n",
            " [98.13636364]]\n",
            "\n",
            "Scikit-Learn LinearRegression:\n",
            "[[79.68181818]\n",
            " [81.52727273]\n",
            " [83.37272727]\n",
            " [85.21818182]\n",
            " [87.06363636]\n",
            " [88.90909091]\n",
            " [90.75454545]\n",
            " [92.6       ]\n",
            " [94.44545455]\n",
            " [96.29090909]\n",
            " [98.13636364]]\n"
          ]
        },
        {
          "output_type": "display_data",
          "data": {
            "text/plain": [
              "<Figure size 640x480 with 1 Axes>"
            ],
            "image/png": "[encoded data removed]"
          },
          "metadata": {}
        }
      ]
    },
    {
      "cell_type": "code",
      "source": [],
      "metadata": {
        "id": "dfJjN7tKqf80"
      },
      "execution_count": null,
      "outputs": []
    }
  ]
}